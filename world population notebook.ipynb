{
 "cells": [
  {
   "cell_type": "markdown",
   "metadata": {},
   "source": [
    "# Project: Investigate a Dataset - [No Show Appointments]\n",
    "\n",
    "## Table of Contents\n",
    "<ul>\n",
    "<li><a href=\"#intro\">Introduction</a></li>\n",
    "<li><a href=\"#wrangling\">Data Wrangling</a></li>\n",
    "<li><a href=\"#eda\">Exploratory Data Analysis</a></li>\n",
    "<li><a href=\"#conclusions\">Conclusions</a></li>\n",
    "</ul>"
   ]
  },
  {
   "cell_type": "markdown",
   "metadata": {},
   "source": [
    "<a id='intro'></a>\n",
    "## Introduction\n",
    "\n",
    "### Dataset Description \n",
    "In this Dataset, we have Historical Population data for every Country/Territory in the world by different parameters like Area Size of the Country/Territory, Name of the Continent, Name of the Capital, Density, Population Growth Rate, Ranking based on Population, World Population Percentage, etc.\n",
    "\n",
    "\n",
    "### Question(s) for Analysis\n",
    "\n",
    "> **q1** which country has the highest growing population?\n",
    "\n",
    "> **q2** which content has the largest growing population?\n",
    "\n",
    "> **q3** Is there any countries with a decreaase in population?\n"
   ]
  },
  {
   "cell_type": "code",
   "execution_count": 86,
   "metadata": {},
   "outputs": [],
   "source": [
    "# importing important libararies \n",
    "\n",
    "import numpy as np\n",
    "import pandas as pd\n",
    "import matplotlib.pyplot as plt\n",
    "import seaborn as sns\n"
   ]
  },
  {
   "cell_type": "markdown",
   "metadata": {},
   "source": [
    "<a id='wrangling'></a>\n",
    "## Data Wrangling\n",
    "\n",
    "> **The** next step after defining our questions would be **Data Wrangling**, in which we will perform three main steps, first we will load the data to our workspace, then we will proceed to assing the data and making sure that the quality and structure of it is right, finally we will clean our data as we enter the explore phase\n"
   ]
  },
  {
   "cell_type": "code",
   "execution_count": 2,
   "metadata": {},
   "outputs": [],
   "source": [
    "# Loading data \n",
    "world_data = pd.read_csv('world_population.csv')"
   ]
  },
  {
   "cell_type": "code",
   "execution_count": 3,
   "metadata": {},
   "outputs": [
    {
     "data": {
      "text/html": [
       "<div>\n",
       "<style scoped>\n",
       "    .dataframe tbody tr th:only-of-type {\n",
       "        vertical-align: middle;\n",
       "    }\n",
       "\n",
       "    .dataframe tbody tr th {\n",
       "        vertical-align: top;\n",
       "    }\n",
       "\n",
       "    .dataframe thead th {\n",
       "        text-align: right;\n",
       "    }\n",
       "</style>\n",
       "<table border=\"1\" class=\"dataframe\">\n",
       "  <thead>\n",
       "    <tr style=\"text-align: right;\">\n",
       "      <th></th>\n",
       "      <th>Rank</th>\n",
       "      <th>CCA3</th>\n",
       "      <th>Country</th>\n",
       "      <th>Capital</th>\n",
       "      <th>Continent</th>\n",
       "      <th>2022 Population</th>\n",
       "      <th>2020 Population</th>\n",
       "      <th>2015 Population</th>\n",
       "      <th>2010 Population</th>\n",
       "      <th>2000 Population</th>\n",
       "      <th>1990 Population</th>\n",
       "      <th>1980 Population</th>\n",
       "      <th>1970 Population</th>\n",
       "      <th>Area (km²)</th>\n",
       "      <th>Density (per km²)</th>\n",
       "      <th>Growth Rate</th>\n",
       "      <th>World Population Percentage</th>\n",
       "    </tr>\n",
       "  </thead>\n",
       "  <tbody>\n",
       "    <tr>\n",
       "      <th>0</th>\n",
       "      <td>36</td>\n",
       "      <td>AFG</td>\n",
       "      <td>Afghanistan</td>\n",
       "      <td>Kabul</td>\n",
       "      <td>Asia</td>\n",
       "      <td>41128771</td>\n",
       "      <td>38972230</td>\n",
       "      <td>33753499</td>\n",
       "      <td>28189672</td>\n",
       "      <td>19542982</td>\n",
       "      <td>10694796</td>\n",
       "      <td>12486631</td>\n",
       "      <td>10752971</td>\n",
       "      <td>652230</td>\n",
       "      <td>63.0587</td>\n",
       "      <td>1.0257</td>\n",
       "      <td>0.52</td>\n",
       "    </tr>\n",
       "    <tr>\n",
       "      <th>1</th>\n",
       "      <td>138</td>\n",
       "      <td>ALB</td>\n",
       "      <td>Albania</td>\n",
       "      <td>Tirana</td>\n",
       "      <td>Europe</td>\n",
       "      <td>2842321</td>\n",
       "      <td>2866849</td>\n",
       "      <td>2882481</td>\n",
       "      <td>2913399</td>\n",
       "      <td>3182021</td>\n",
       "      <td>3295066</td>\n",
       "      <td>2941651</td>\n",
       "      <td>2324731</td>\n",
       "      <td>28748</td>\n",
       "      <td>98.8702</td>\n",
       "      <td>0.9957</td>\n",
       "      <td>0.04</td>\n",
       "    </tr>\n",
       "    <tr>\n",
       "      <th>2</th>\n",
       "      <td>34</td>\n",
       "      <td>DZA</td>\n",
       "      <td>Algeria</td>\n",
       "      <td>Algiers</td>\n",
       "      <td>Africa</td>\n",
       "      <td>44903225</td>\n",
       "      <td>43451666</td>\n",
       "      <td>39543154</td>\n",
       "      <td>35856344</td>\n",
       "      <td>30774621</td>\n",
       "      <td>25518074</td>\n",
       "      <td>18739378</td>\n",
       "      <td>13795915</td>\n",
       "      <td>2381741</td>\n",
       "      <td>18.8531</td>\n",
       "      <td>1.0164</td>\n",
       "      <td>0.56</td>\n",
       "    </tr>\n",
       "    <tr>\n",
       "      <th>3</th>\n",
       "      <td>213</td>\n",
       "      <td>ASM</td>\n",
       "      <td>American Samoa</td>\n",
       "      <td>Pago Pago</td>\n",
       "      <td>Oceania</td>\n",
       "      <td>44273</td>\n",
       "      <td>46189</td>\n",
       "      <td>51368</td>\n",
       "      <td>54849</td>\n",
       "      <td>58230</td>\n",
       "      <td>47818</td>\n",
       "      <td>32886</td>\n",
       "      <td>27075</td>\n",
       "      <td>199</td>\n",
       "      <td>222.4774</td>\n",
       "      <td>0.9831</td>\n",
       "      <td>0.00</td>\n",
       "    </tr>\n",
       "    <tr>\n",
       "      <th>4</th>\n",
       "      <td>203</td>\n",
       "      <td>AND</td>\n",
       "      <td>Andorra</td>\n",
       "      <td>Andorra la Vella</td>\n",
       "      <td>Europe</td>\n",
       "      <td>79824</td>\n",
       "      <td>77700</td>\n",
       "      <td>71746</td>\n",
       "      <td>71519</td>\n",
       "      <td>66097</td>\n",
       "      <td>53569</td>\n",
       "      <td>35611</td>\n",
       "      <td>19860</td>\n",
       "      <td>468</td>\n",
       "      <td>170.5641</td>\n",
       "      <td>1.0100</td>\n",
       "      <td>0.00</td>\n",
       "    </tr>\n",
       "  </tbody>\n",
       "</table>\n",
       "</div>"
      ],
      "text/plain": [
       "   Rank CCA3         Country           Capital Continent  2022 Population  \\\n",
       "0    36  AFG     Afghanistan             Kabul      Asia         41128771   \n",
       "1   138  ALB         Albania            Tirana    Europe          2842321   \n",
       "2    34  DZA         Algeria           Algiers    Africa         44903225   \n",
       "3   213  ASM  American Samoa         Pago Pago   Oceania            44273   \n",
       "4   203  AND         Andorra  Andorra la Vella    Europe            79824   \n",
       "\n",
       "   2020 Population  2015 Population  2010 Population  2000 Population  \\\n",
       "0         38972230         33753499         28189672         19542982   \n",
       "1          2866849          2882481          2913399          3182021   \n",
       "2         43451666         39543154         35856344         30774621   \n",
       "3            46189            51368            54849            58230   \n",
       "4            77700            71746            71519            66097   \n",
       "\n",
       "   1990 Population  1980 Population  1970 Population  Area (km²)  \\\n",
       "0         10694796         12486631         10752971      652230   \n",
       "1          3295066          2941651          2324731       28748   \n",
       "2         25518074         18739378         13795915     2381741   \n",
       "3            47818            32886            27075         199   \n",
       "4            53569            35611            19860         468   \n",
       "\n",
       "   Density (per km²)  Growth Rate  World Population Percentage  \n",
       "0            63.0587       1.0257                         0.52  \n",
       "1            98.8702       0.9957                         0.04  \n",
       "2            18.8531       1.0164                         0.56  \n",
       "3           222.4774       0.9831                         0.00  \n",
       "4           170.5641       1.0100                         0.00  "
      ]
     },
     "execution_count": 3,
     "metadata": {},
     "output_type": "execute_result"
    }
   ],
   "source": [
    "world_data.head()"
   ]
  },
  {
   "cell_type": "markdown",
   "metadata": {},
   "source": [
    "First five rows of the dataset, just for visualization purpose "
   ]
  },
  {
   "cell_type": "code",
   "execution_count": 4,
   "metadata": {},
   "outputs": [
    {
     "name": "stdout",
     "output_type": "stream",
     "text": [
      "<class 'pandas.core.frame.DataFrame'>\n",
      "RangeIndex: 234 entries, 0 to 233\n",
      "Data columns (total 17 columns):\n",
      " #   Column                       Non-Null Count  Dtype  \n",
      "---  ------                       --------------  -----  \n",
      " 0   Rank                         234 non-null    int64  \n",
      " 1   CCA3                         234 non-null    object \n",
      " 2   Country                      234 non-null    object \n",
      " 3   Capital                      234 non-null    object \n",
      " 4   Continent                    234 non-null    object \n",
      " 5   2022 Population              234 non-null    int64  \n",
      " 6   2020 Population              234 non-null    int64  \n",
      " 7   2015 Population              234 non-null    int64  \n",
      " 8   2010 Population              234 non-null    int64  \n",
      " 9   2000 Population              234 non-null    int64  \n",
      " 10  1990 Population              234 non-null    int64  \n",
      " 11  1980 Population              234 non-null    int64  \n",
      " 12  1970 Population              234 non-null    int64  \n",
      " 13  Area (km²)                   234 non-null    int64  \n",
      " 14  Density (per km²)            234 non-null    float64\n",
      " 15  Growth Rate                  234 non-null    float64\n",
      " 16  World Population Percentage  234 non-null    float64\n",
      "dtypes: float64(3), int64(10), object(4)\n",
      "memory usage: 31.2+ KB\n"
     ]
    }
   ],
   "source": [
    "world_data.info()"
   ]
  },
  {
   "cell_type": "code",
   "execution_count": 5,
   "metadata": {},
   "outputs": [
    {
     "data": {
      "text/html": [
       "<div>\n",
       "<style scoped>\n",
       "    .dataframe tbody tr th:only-of-type {\n",
       "        vertical-align: middle;\n",
       "    }\n",
       "\n",
       "    .dataframe tbody tr th {\n",
       "        vertical-align: top;\n",
       "    }\n",
       "\n",
       "    .dataframe thead th {\n",
       "        text-align: right;\n",
       "    }\n",
       "</style>\n",
       "<table border=\"1\" class=\"dataframe\">\n",
       "  <thead>\n",
       "    <tr style=\"text-align: right;\">\n",
       "      <th></th>\n",
       "      <th>Rank</th>\n",
       "      <th>2022 Population</th>\n",
       "      <th>2020 Population</th>\n",
       "      <th>2015 Population</th>\n",
       "      <th>2010 Population</th>\n",
       "      <th>2000 Population</th>\n",
       "      <th>1990 Population</th>\n",
       "      <th>1980 Population</th>\n",
       "      <th>1970 Population</th>\n",
       "      <th>Area (km²)</th>\n",
       "      <th>Density (per km²)</th>\n",
       "      <th>Growth Rate</th>\n",
       "      <th>World Population Percentage</th>\n",
       "    </tr>\n",
       "  </thead>\n",
       "  <tbody>\n",
       "    <tr>\n",
       "      <th>count</th>\n",
       "      <td>234.000000</td>\n",
       "      <td>2.340000e+02</td>\n",
       "      <td>2.340000e+02</td>\n",
       "      <td>2.340000e+02</td>\n",
       "      <td>2.340000e+02</td>\n",
       "      <td>2.340000e+02</td>\n",
       "      <td>2.340000e+02</td>\n",
       "      <td>2.340000e+02</td>\n",
       "      <td>2.340000e+02</td>\n",
       "      <td>2.340000e+02</td>\n",
       "      <td>234.000000</td>\n",
       "      <td>234.000000</td>\n",
       "      <td>234.000000</td>\n",
       "    </tr>\n",
       "    <tr>\n",
       "      <th>mean</th>\n",
       "      <td>117.500000</td>\n",
       "      <td>3.407441e+07</td>\n",
       "      <td>3.350107e+07</td>\n",
       "      <td>3.172996e+07</td>\n",
       "      <td>2.984524e+07</td>\n",
       "      <td>2.626947e+07</td>\n",
       "      <td>2.271022e+07</td>\n",
       "      <td>1.898462e+07</td>\n",
       "      <td>1.578691e+07</td>\n",
       "      <td>5.814494e+05</td>\n",
       "      <td>452.127044</td>\n",
       "      <td>1.009577</td>\n",
       "      <td>0.427051</td>\n",
       "    </tr>\n",
       "    <tr>\n",
       "      <th>std</th>\n",
       "      <td>67.694165</td>\n",
       "      <td>1.367664e+08</td>\n",
       "      <td>1.355899e+08</td>\n",
       "      <td>1.304050e+08</td>\n",
       "      <td>1.242185e+08</td>\n",
       "      <td>1.116982e+08</td>\n",
       "      <td>9.783217e+07</td>\n",
       "      <td>8.178519e+07</td>\n",
       "      <td>6.779509e+07</td>\n",
       "      <td>1.761841e+06</td>\n",
       "      <td>2066.121904</td>\n",
       "      <td>0.013385</td>\n",
       "      <td>1.714977</td>\n",
       "    </tr>\n",
       "    <tr>\n",
       "      <th>min</th>\n",
       "      <td>1.000000</td>\n",
       "      <td>5.100000e+02</td>\n",
       "      <td>5.200000e+02</td>\n",
       "      <td>5.640000e+02</td>\n",
       "      <td>5.960000e+02</td>\n",
       "      <td>6.510000e+02</td>\n",
       "      <td>7.000000e+02</td>\n",
       "      <td>7.330000e+02</td>\n",
       "      <td>7.520000e+02</td>\n",
       "      <td>1.000000e+00</td>\n",
       "      <td>0.026100</td>\n",
       "      <td>0.912000</td>\n",
       "      <td>0.000000</td>\n",
       "    </tr>\n",
       "    <tr>\n",
       "      <th>25%</th>\n",
       "      <td>59.250000</td>\n",
       "      <td>4.197385e+05</td>\n",
       "      <td>4.152845e+05</td>\n",
       "      <td>4.046760e+05</td>\n",
       "      <td>3.931490e+05</td>\n",
       "      <td>3.272420e+05</td>\n",
       "      <td>2.641158e+05</td>\n",
       "      <td>2.296142e+05</td>\n",
       "      <td>1.559970e+05</td>\n",
       "      <td>2.650000e+03</td>\n",
       "      <td>38.417875</td>\n",
       "      <td>1.001775</td>\n",
       "      <td>0.010000</td>\n",
       "    </tr>\n",
       "    <tr>\n",
       "      <th>50%</th>\n",
       "      <td>117.500000</td>\n",
       "      <td>5.559944e+06</td>\n",
       "      <td>5.493074e+06</td>\n",
       "      <td>5.307400e+06</td>\n",
       "      <td>4.942770e+06</td>\n",
       "      <td>4.292907e+06</td>\n",
       "      <td>3.825410e+06</td>\n",
       "      <td>3.141146e+06</td>\n",
       "      <td>2.604830e+06</td>\n",
       "      <td>8.119950e+04</td>\n",
       "      <td>95.346750</td>\n",
       "      <td>1.007900</td>\n",
       "      <td>0.070000</td>\n",
       "    </tr>\n",
       "    <tr>\n",
       "      <th>75%</th>\n",
       "      <td>175.750000</td>\n",
       "      <td>2.247650e+07</td>\n",
       "      <td>2.144798e+07</td>\n",
       "      <td>1.973085e+07</td>\n",
       "      <td>1.915957e+07</td>\n",
       "      <td>1.576230e+07</td>\n",
       "      <td>1.186923e+07</td>\n",
       "      <td>9.826054e+06</td>\n",
       "      <td>8.817329e+06</td>\n",
       "      <td>4.304258e+05</td>\n",
       "      <td>238.933250</td>\n",
       "      <td>1.016950</td>\n",
       "      <td>0.280000</td>\n",
       "    </tr>\n",
       "    <tr>\n",
       "      <th>max</th>\n",
       "      <td>234.000000</td>\n",
       "      <td>1.425887e+09</td>\n",
       "      <td>1.424930e+09</td>\n",
       "      <td>1.393715e+09</td>\n",
       "      <td>1.348191e+09</td>\n",
       "      <td>1.264099e+09</td>\n",
       "      <td>1.153704e+09</td>\n",
       "      <td>9.823725e+08</td>\n",
       "      <td>8.225344e+08</td>\n",
       "      <td>1.709824e+07</td>\n",
       "      <td>23172.266700</td>\n",
       "      <td>1.069100</td>\n",
       "      <td>17.880000</td>\n",
       "    </tr>\n",
       "  </tbody>\n",
       "</table>\n",
       "</div>"
      ],
      "text/plain": [
       "             Rank  2022 Population  2020 Population  2015 Population  \\\n",
       "count  234.000000     2.340000e+02     2.340000e+02     2.340000e+02   \n",
       "mean   117.500000     3.407441e+07     3.350107e+07     3.172996e+07   \n",
       "std     67.694165     1.367664e+08     1.355899e+08     1.304050e+08   \n",
       "min      1.000000     5.100000e+02     5.200000e+02     5.640000e+02   \n",
       "25%     59.250000     4.197385e+05     4.152845e+05     4.046760e+05   \n",
       "50%    117.500000     5.559944e+06     5.493074e+06     5.307400e+06   \n",
       "75%    175.750000     2.247650e+07     2.144798e+07     1.973085e+07   \n",
       "max    234.000000     1.425887e+09     1.424930e+09     1.393715e+09   \n",
       "\n",
       "       2010 Population  2000 Population  1990 Population  1980 Population  \\\n",
       "count     2.340000e+02     2.340000e+02     2.340000e+02     2.340000e+02   \n",
       "mean      2.984524e+07     2.626947e+07     2.271022e+07     1.898462e+07   \n",
       "std       1.242185e+08     1.116982e+08     9.783217e+07     8.178519e+07   \n",
       "min       5.960000e+02     6.510000e+02     7.000000e+02     7.330000e+02   \n",
       "25%       3.931490e+05     3.272420e+05     2.641158e+05     2.296142e+05   \n",
       "50%       4.942770e+06     4.292907e+06     3.825410e+06     3.141146e+06   \n",
       "75%       1.915957e+07     1.576230e+07     1.186923e+07     9.826054e+06   \n",
       "max       1.348191e+09     1.264099e+09     1.153704e+09     9.823725e+08   \n",
       "\n",
       "       1970 Population    Area (km²)  Density (per km²)  Growth Rate  \\\n",
       "count     2.340000e+02  2.340000e+02         234.000000   234.000000   \n",
       "mean      1.578691e+07  5.814494e+05         452.127044     1.009577   \n",
       "std       6.779509e+07  1.761841e+06        2066.121904     0.013385   \n",
       "min       7.520000e+02  1.000000e+00           0.026100     0.912000   \n",
       "25%       1.559970e+05  2.650000e+03          38.417875     1.001775   \n",
       "50%       2.604830e+06  8.119950e+04          95.346750     1.007900   \n",
       "75%       8.817329e+06  4.304258e+05         238.933250     1.016950   \n",
       "max       8.225344e+08  1.709824e+07       23172.266700     1.069100   \n",
       "\n",
       "       World Population Percentage  \n",
       "count                   234.000000  \n",
       "mean                      0.427051  \n",
       "std                       1.714977  \n",
       "min                       0.000000  \n",
       "25%                       0.010000  \n",
       "50%                       0.070000  \n",
       "75%                       0.280000  \n",
       "max                      17.880000  "
      ]
     },
     "execution_count": 5,
     "metadata": {},
     "output_type": "execute_result"
    }
   ],
   "source": [
    "world_data.describe()"
   ]
  },
  {
   "cell_type": "markdown",
   "metadata": {},
   "source": [
    "we can see that the average population doubled from 1970 to 2022"
   ]
  },
  {
   "cell_type": "markdown",
   "metadata": {},
   "source": [
    "we can see that the data does not need cleaning so we will go to the visualizations "
   ]
  },
  {
   "cell_type": "markdown",
   "metadata": {},
   "source": [
    "<a id='eda'></a>\n",
    "## Exploratory Data Analysis\n",
    "\n",
    "\n",
    "### Research Question 1 (which country has the highest growing population?)"
   ]
  },
  {
   "cell_type": "code",
   "execution_count": 6,
   "metadata": {},
   "outputs": [
    {
     "data": {
      "text/html": [
       "<div>\n",
       "<style scoped>\n",
       "    .dataframe tbody tr th:only-of-type {\n",
       "        vertical-align: middle;\n",
       "    }\n",
       "\n",
       "    .dataframe tbody tr th {\n",
       "        vertical-align: top;\n",
       "    }\n",
       "\n",
       "    .dataframe thead th {\n",
       "        text-align: right;\n",
       "    }\n",
       "</style>\n",
       "<table border=\"1\" class=\"dataframe\">\n",
       "  <thead>\n",
       "    <tr style=\"text-align: right;\">\n",
       "      <th></th>\n",
       "      <th>Country</th>\n",
       "      <th>growth_rate</th>\n",
       "    </tr>\n",
       "  </thead>\n",
       "  <tbody>\n",
       "    <tr>\n",
       "      <th>219</th>\n",
       "      <td>United Arab Emirates</td>\n",
       "      <td>30.672713</td>\n",
       "    </tr>\n",
       "    <tr>\n",
       "      <th>167</th>\n",
       "      <td>Qatar</td>\n",
       "      <td>21.838662</td>\n",
       "    </tr>\n",
       "    <tr>\n",
       "      <th>130</th>\n",
       "      <td>Mayotte</td>\n",
       "      <td>8.216319</td>\n",
       "    </tr>\n",
       "    <tr>\n",
       "      <th>215</th>\n",
       "      <td>Turks and Caicos Islands</td>\n",
       "      <td>7.067608</td>\n",
       "    </tr>\n",
       "    <tr>\n",
       "      <th>52</th>\n",
       "      <td>Djibouti</td>\n",
       "      <td>6.763241</td>\n",
       "    </tr>\n",
       "  </tbody>\n",
       "</table>\n",
       "</div>"
      ],
      "text/plain": [
       "                      Country  growth_rate\n",
       "219      United Arab Emirates    30.672713\n",
       "167                     Qatar    21.838662\n",
       "130                   Mayotte     8.216319\n",
       "215  Turks and Caicos Islands     7.067608\n",
       "52                   Djibouti     6.763241"
      ]
     },
     "execution_count": 6,
     "metadata": {},
     "output_type": "execute_result"
    }
   ],
   "source": [
    "#first we have to find the top five countries with growth rate from 1970 to 2022\n",
    "world_data['growth_rate']=((world_data['2022 Population'] - world_data['1970 Population'])/world_data['1970 Population'])\n",
    "top5=world_data[[\"Country\",\"growth_rate\"]]\n",
    "top5.sort_values(by='growth_rate',ascending=False).head()"
   ]
  },
  {
   "cell_type": "markdown",
   "metadata": {},
   "source": [
    "now we know our top 5 country with growth rate let's plot them over the years "
   ]
  },
  {
   "cell_type": "code",
   "execution_count": 7,
   "metadata": {},
   "outputs": [],
   "source": [
    "years=['1970 Population','1980 Population','1990 Population','2000 Population','2010 Population',\n",
    "      '2015 Population','2020 Population','2022 Population']\n",
    "top5_countries=['United Arab Emirates','Qatar','Mayotte','Turks and Caicos Islands','Djibouti']\n",
    "top5_table=world_data.query('Country == @top5_countries')\n",
    "top5_table=top5_table.loc[:,'Country':'1970 Population']\n",
    "top5_table.drop(['Capital','Continent'],axis=1,inplace=True)"
   ]
  },
  {
   "cell_type": "code",
   "execution_count": 8,
   "metadata": {},
   "outputs": [],
   "source": [
    "top5_table.set_index('Country',inplace=True)"
   ]
  },
  {
   "cell_type": "code",
   "execution_count": 30,
   "metadata": {},
   "outputs": [
    {
     "name": "stderr",
     "output_type": "stream",
     "text": [
      "C:\\Users\\fahda\\AppData\\Local\\Temp\\ipykernel_13192\\3918971349.py:17: SettingWithCopyWarning: \n",
      "A value is trying to be set on a copy of a slice from a DataFrame\n",
      "\n",
      "See the caveats in the documentation: https://pandas.pydata.org/pandas-docs/stable/user_guide/indexing.html#returning-a-view-versus-a-copy\n",
      "  top5[\"Djibouti's growth\"][[i]]= (v-base_valueD)/base_valueD\n",
      "C:\\Users\\fahda\\AppData\\Local\\Temp\\ipykernel_13192\\3918971349.py:19: SettingWithCopyWarning: \n",
      "A value is trying to be set on a copy of a slice from a DataFrame\n",
      "\n",
      "See the caveats in the documentation: https://pandas.pydata.org/pandas-docs/stable/user_guide/indexing.html#returning-a-view-versus-a-copy\n",
      "  top5[\"Mayotte's growth\"][[i]]= (v-base_valueM)/base_valueM\n",
      "C:\\Users\\fahda\\AppData\\Local\\Temp\\ipykernel_13192\\3918971349.py:21: SettingWithCopyWarning: \n",
      "A value is trying to be set on a copy of a slice from a DataFrame\n",
      "\n",
      "See the caveats in the documentation: https://pandas.pydata.org/pandas-docs/stable/user_guide/indexing.html#returning-a-view-versus-a-copy\n",
      "  top5[\"Qatar's growth\"][[i]]= (v-base_valueQ)/base_valueQ\n",
      "C:\\Users\\fahda\\AppData\\Local\\Temp\\ipykernel_13192\\3918971349.py:23: SettingWithCopyWarning: \n",
      "A value is trying to be set on a copy of a slice from a DataFrame\n",
      "\n",
      "See the caveats in the documentation: https://pandas.pydata.org/pandas-docs/stable/user_guide/indexing.html#returning-a-view-versus-a-copy\n",
      "  top5[\"Turks and Caicos Islands'growth\"][[i]]= (v-base_valueT)/base_valueT\n"
     ]
    }
   ],
   "source": [
    "top5=top5_table.T.iloc[::-1]\n",
    "#calculate growth rate to 1970 for each country \n",
    "base_valueE=top5['United Arab Emirates'].min()\n",
    "base_valueD=top5['Djibouti'].min()\n",
    "base_valueM=top5['Mayotte'].min()\n",
    "base_valueQ=top5['Qatar'].min()\n",
    "base_valueT=top5['Turks and Caicos Islands'].min()\n",
    "\n",
    "top5[\"United Arab Emirates' growth\"]=0\n",
    "top5[\"Djibouti's growth\"]=0\n",
    "top5[\"Mayotte's growth\"]=0\n",
    "top5[\"Qatar's growth\"]=0\n",
    "top5[\"Turks and Caicos Islands'growth\"]=0\n",
    "\n",
    "for i,v in enumerate(top5['United Arab Emirates']):\n",
    "    top5[\"United Arab Emirates' growth\"][[i]]= (v-base_valueE)/base_valueE\n",
    "for i,v in enumerate(top5['Djibouti']):\n",
    "    top5[\"Djibouti's growth\"][[i]]= (v-base_valueD)/base_valueD\n",
    "for i,v in enumerate(top5['Mayotte']):\n",
    "    top5[\"Mayotte's growth\"][[i]]= (v-base_valueM)/base_valueM\n",
    "for i,v in enumerate(top5['Qatar']):\n",
    "    top5[\"Qatar's growth\"][[i]]= (v-base_valueQ)/base_valueQ\n",
    "for i,v in enumerate(top5['Turks and Caicos Islands']):\n",
    "    top5[\"Turks and Caicos Islands'growth\"][[i]]= (v-base_valueT)/base_valueT\n",
    "top5.drop([\"United Arab Emirates\",\"Djibouti\",\"Mayotte\",\"Qatar\",\"Turks and Caicos Islands\"],axis=1,inplace=True)\n"
   ]
  },
  {
   "cell_type": "code",
   "execution_count": 77,
   "metadata": {},
   "outputs": [
    {
     "data": {
      "image/png": "[encoded data removed]",
      "text/plain": [
       "<Figure size 576x432 with 1 Axes>"
      ]
     },
     "metadata": {
      "needs_background": "light"
     },
     "output_type": "display_data"
    }
   ],
   "source": [
    "plt.figure(figsize=(8, 6))\n",
    "sns.lineplot(data=top5)\n",
    "plt.xticks(rotation=45);\n",
    "plt.ylabel('Growth percentage');\n",
    "plt.title('Top 5 growth percentage from 1970 per country');"
   ]
  },
  {
   "cell_type": "markdown",
   "metadata": {},
   "source": [
    "we can see that **UAE** and **Qatar** have the highest percentages in population growth "
   ]
  },
  {
   "cell_type": "markdown",
   "metadata": {},
   "source": [
    "### Research Question 2  (which content has the largest growing population?)"
   ]
  },
  {
   "cell_type": "code",
   "execution_count": 83,
   "metadata": {
    "scrolled": true
   },
   "outputs": [
    {
     "data": {
      "image/png": "[encoded data removed]",
      "text/plain": [
       "<Figure size 576x432 with 1 Axes>"
      ]
     },
     "metadata": {
      "needs_background": "light"
     },
     "output_type": "display_data"
    }
   ],
   "source": [
    "continents=world_data.groupby(\"Continent\")[years].sum()\n",
    "plt.figure(figsize=(8, 6));\n",
    "sns.barplot(data=continents,x=continents.index,y=continents['2022 Population']);\n",
    "plt.xticks(rotation=45);\n",
    "plt.ylabel('Population in Billions');\n",
    "plt.title('Current world population');\n"
   ]
  },
  {
   "cell_type": "markdown",
   "metadata": {},
   "source": [
    "So Asia is leading in the population race but what about the growth in the past decades"
   ]
  },
  {
   "cell_type": "code",
   "execution_count": 84,
   "metadata": {},
   "outputs": [
    {
     "name": "stderr",
     "output_type": "stream",
     "text": [
      "C:\\Users\\fahda\\AppData\\Local\\Temp\\ipykernel_13192\\982271450.py:21: SettingWithCopyWarning: \n",
      "A value is trying to be set on a copy of a slice from a DataFrame\n",
      "\n",
      "See the caveats in the documentation: https://pandas.pydata.org/pandas-docs/stable/user_guide/indexing.html#returning-a-view-versus-a-copy\n",
      "  continents[\"Asia's growth\"][[i]]= (v-base_valueAs)/base_valueAs\n",
      "C:\\Users\\fahda\\AppData\\Local\\Temp\\ipykernel_13192\\982271450.py:23: SettingWithCopyWarning: \n",
      "A value is trying to be set on a copy of a slice from a DataFrame\n",
      "\n",
      "See the caveats in the documentation: https://pandas.pydata.org/pandas-docs/stable/user_guide/indexing.html#returning-a-view-versus-a-copy\n",
      "  continents[\"Europe's growth\"][[i]]= (v-base_valueE)/base_valueE\n",
      "C:\\Users\\fahda\\AppData\\Local\\Temp\\ipykernel_13192\\982271450.py:25: SettingWithCopyWarning: \n",
      "A value is trying to be set on a copy of a slice from a DataFrame\n",
      "\n",
      "See the caveats in the documentation: https://pandas.pydata.org/pandas-docs/stable/user_guide/indexing.html#returning-a-view-versus-a-copy\n",
      "  continents[\"North America's growth\"][[i]]= (v-base_valueNa)/base_valueNa\n",
      "C:\\Users\\fahda\\AppData\\Local\\Temp\\ipykernel_13192\\982271450.py:27: SettingWithCopyWarning: \n",
      "A value is trying to be set on a copy of a slice from a DataFrame\n",
      "\n",
      "See the caveats in the documentation: https://pandas.pydata.org/pandas-docs/stable/user_guide/indexing.html#returning-a-view-versus-a-copy\n",
      "  continents[\"South America's growth\"][[i]]= (v-base_valueSa)/base_valueSa\n",
      "C:\\Users\\fahda\\AppData\\Local\\Temp\\ipykernel_13192\\982271450.py:29: SettingWithCopyWarning: \n",
      "A value is trying to be set on a copy of a slice from a DataFrame\n",
      "\n",
      "See the caveats in the documentation: https://pandas.pydata.org/pandas-docs/stable/user_guide/indexing.html#returning-a-view-versus-a-copy\n",
      "  continents[\"Oceania's growth\"][[i]]= (v-base_valueO)/base_valueO\n"
     ]
    },
    {
     "data": {
      "text/html": [
       "<div>\n",
       "<style scoped>\n",
       "    .dataframe tbody tr th:only-of-type {\n",
       "        vertical-align: middle;\n",
       "    }\n",
       "\n",
       "    .dataframe tbody tr th {\n",
       "        vertical-align: top;\n",
       "    }\n",
       "\n",
       "    .dataframe thead th {\n",
       "        text-align: right;\n",
       "    }\n",
       "</style>\n",
       "<table border=\"1\" class=\"dataframe\">\n",
       "  <thead>\n",
       "    <tr style=\"text-align: right;\">\n",
       "      <th>Continent</th>\n",
       "      <th>Africa's growth</th>\n",
       "      <th>Asia's growth</th>\n",
       "      <th>Europe's growth</th>\n",
       "      <th>North America's growth</th>\n",
       "      <th>South America's growth</th>\n",
       "      <th>Oceania's growth</th>\n",
       "    </tr>\n",
       "  </thead>\n",
       "  <tbody>\n",
       "    <tr>\n",
       "      <th>1970 Population</th>\n",
       "      <td>0.000000</td>\n",
       "      <td>0.000000</td>\n",
       "      <td>0.000000</td>\n",
       "      <td>0.000000</td>\n",
       "      <td>0.000000</td>\n",
       "      <td>0.000000</td>\n",
       "    </tr>\n",
       "    <tr>\n",
       "      <th>1980 Population</th>\n",
       "      <td>0.317674</td>\n",
       "      <td>0.228648</td>\n",
       "      <td>0.055804</td>\n",
       "      <td>0.167574</td>\n",
       "      <td>0.253136</td>\n",
       "      <td>0.176587</td>\n",
       "    </tr>\n",
       "    <tr>\n",
       "      <th>1990 Population</th>\n",
       "      <td>0.746232</td>\n",
       "      <td>0.496832</td>\n",
       "      <td>0.098177</td>\n",
       "      <td>0.335511</td>\n",
       "      <td>0.540040</td>\n",
       "      <td>0.372867</td>\n",
       "    </tr>\n",
       "    <tr>\n",
       "      <th>2000 Population</th>\n",
       "      <td>1.240960</td>\n",
       "      <td>0.741377</td>\n",
       "      <td>0.106978</td>\n",
       "      <td>0.540952</td>\n",
       "      <td>0.812073</td>\n",
       "      <td>0.602790</td>\n",
       "    </tr>\n",
       "    <tr>\n",
       "      <th>2010 Population</th>\n",
       "      <td>1.887521</td>\n",
       "      <td>0.967471</td>\n",
       "      <td>0.121493</td>\n",
       "      <td>0.720549</td>\n",
       "      <td>1.037233</td>\n",
       "      <td>0.904633</td>\n",
       "    </tr>\n",
       "    <tr>\n",
       "      <th>2015 Population</th>\n",
       "      <td>2.286690</td>\n",
       "      <td>1.078529</td>\n",
       "      <td>0.130521</td>\n",
       "      <td>0.808248</td>\n",
       "      <td>1.141179</td>\n",
       "      <td>1.074062</td>\n",
       "    </tr>\n",
       "    <tr>\n",
       "      <th>2020 Population</th>\n",
       "      <td>2.723335</td>\n",
       "      <td>1.174028</td>\n",
       "      <td>0.137010</td>\n",
       "      <td>0.883866</td>\n",
       "      <td>1.236519</td>\n",
       "      <td>1.255278</td>\n",
       "    </tr>\n",
       "    <tr>\n",
       "      <th>2022 Population</th>\n",
       "      <td>2.904099</td>\n",
       "      <td>1.201207</td>\n",
       "      <td>0.132978</td>\n",
       "      <td>0.903076</td>\n",
       "      <td>1.263918</td>\n",
       "      <td>1.312009</td>\n",
       "    </tr>\n",
       "  </tbody>\n",
       "</table>\n",
       "</div>"
      ],
      "text/plain": [
       "Continent        Africa's growth  Asia's growth  Europe's growth  \\\n",
       "1970 Population         0.000000       0.000000         0.000000   \n",
       "1980 Population         0.317674       0.228648         0.055804   \n",
       "1990 Population         0.746232       0.496832         0.098177   \n",
       "2000 Population         1.240960       0.741377         0.106978   \n",
       "2010 Population         1.887521       0.967471         0.121493   \n",
       "2015 Population         2.286690       1.078529         0.130521   \n",
       "2020 Population         2.723335       1.174028         0.137010   \n",
       "2022 Population         2.904099       1.201207         0.132978   \n",
       "\n",
       "Continent        North America's growth  South America's growth  \\\n",
       "1970 Population                0.000000                0.000000   \n",
       "1980 Population                0.167574                0.253136   \n",
       "1990 Population                0.335511                0.540040   \n",
       "2000 Population                0.540952                0.812073   \n",
       "2010 Population                0.720549                1.037233   \n",
       "2015 Population                0.808248                1.141179   \n",
       "2020 Population                0.883866                1.236519   \n",
       "2022 Population                0.903076                1.263918   \n",
       "\n",
       "Continent        Oceania's growth  \n",
       "1970 Population          0.000000  \n",
       "1980 Population          0.176587  \n",
       "1990 Population          0.372867  \n",
       "2000 Population          0.602790  \n",
       "2010 Population          0.904633  \n",
       "2015 Population          1.074062  \n",
       "2020 Population          1.255278  \n",
       "2022 Population          1.312009  "
      ]
     },
     "execution_count": 84,
     "metadata": {},
     "output_type": "execute_result"
    }
   ],
   "source": [
    "continents =continents.T\n",
    "#calculating growth rate for each continent \n",
    "base_valueAf=continents['Africa'].min()\n",
    "base_valueAs=continents['Asia'].min()\n",
    "base_valueE=continents['Europe'].min()\n",
    "base_valueNa=continents['North America'].min()\n",
    "base_valueSa=continents['South America'].min()\n",
    "base_valueO=continents['Oceania'].min()\n",
    "\n",
    "continents[\"Africa's growth\"]=0\n",
    "continents[\"Asia's growth\"]=0\n",
    "continents[\"Europe's growth\"]=0\n",
    "continents[\"North America's growth\"]=0\n",
    "continents[\"South America's growth\"]=0\n",
    "continents[\"Oceania's growth\"]=0\n",
    "\n",
    "\n",
    "for i,v in enumerate(continents['Africa']):\n",
    "    continents[\"Africa's growth\"][[i]]= (v-base_valueAf)/base_valueAf\n",
    "for i,v in enumerate(continents['Asia']):\n",
    "    continents[\"Asia's growth\"][[i]]= (v-base_valueAs)/base_valueAs\n",
    "for i,v in enumerate(continents['Europe']):\n",
    "    continents[\"Europe's growth\"][[i]]= (v-base_valueE)/base_valueE\n",
    "for i,v in enumerate(continents['North America']):\n",
    "    continents[\"North America's growth\"][[i]]= (v-base_valueNa)/base_valueNa\n",
    "for i,v in enumerate(continents['South America']):\n",
    "    continents[\"South America's growth\"][[i]]= (v-base_valueSa)/base_valueSa\n",
    "for i,v in enumerate(continents['Oceania']):\n",
    "    continents[\"Oceania's growth\"][[i]]= (v-base_valueO)/base_valueO\n",
    "continents.drop([\"Africa\",\"Asia\",\"Europe\",\"North America\",\"South America\",\"Oceania\"],axis=1,inplace=True)\n",
    "continents"
   ]
  },
  {
   "cell_type": "code",
   "execution_count": 85,
   "metadata": {},
   "outputs": [
    {
     "data": {
      "image/png": "[encoded data removed]",
      "text/plain": [
       "<Figure size 576x432 with 1 Axes>"
      ]
     },
     "metadata": {
      "needs_background": "light"
     },
     "output_type": "display_data"
    }
   ],
   "source": [
    "plt.figure(figsize=(8, 6));\n",
    "sns.lineplot(data=continents)\n",
    "plt.xticks(rotation=45);\n",
    "plt.ylabel('Growth percentage');\n",
    "plt.title('Top 5 growth percentage from 1970 per continent');"
   ]
  },
  {
   "cell_type": "markdown",
   "metadata": {},
   "source": [
    "The growth rate of Africa is tremendous, it is more that the doub;e of each continent, we can see that Oceania exceeded South america in the past decade While Europe is nearlly zero "
   ]
  },
  {
   "cell_type": "markdown",
   "metadata": {},
   "source": [
    "### Research Question 3  (Is there any countries with a decreaase in population?)"
   ]
  },
  {
   "cell_type": "code",
   "execution_count": 98,
   "metadata": {},
   "outputs": [
    {
     "data": {
      "image/png": "[encoded data removed]",
      "text/plain": [
       "<Figure size 576x432 with 1 Axes>"
      ]
     },
     "metadata": {
      "needs_background": "light"
     },
     "output_type": "display_data"
    }
   ],
   "source": [
    "top5decrease = world_data[(world_data['2022 Population'] - world_data['1970 Population'] < 0 )]\n",
    "top5decrease=top5decrease.sort_values('growth_rate').head()\n",
    "plt.figure(figsize=(8, 6));\n",
    "sns.barplot(data = top5decrease,x='Country',y='growth_rate');\n",
    "plt.title('Top 5 countries in declining population from 1970 ');"
   ]
  },
  {
   "cell_type": "markdown",
   "metadata": {},
   "source": [
    "we see that there is countries that has had a decrease in their populations from the 1970s "
   ]
  },
  {
   "cell_type": "markdown",
   "metadata": {},
   "source": [
    "<a id='conclusions'></a>\n",
    "## Conclusions\n",
    "\n",
    "> In this report we found out which contries has the highest growth and which countinents has the highest growth also which countries is decreasing their population states \n",
    "\n",
    "> Although that Asia has the highest population and has the highest population growth in countries but Africa has the highest population growth as a continent \n",
    "\n",
    "### Limitations\n",
    "> **Tip**: we need more data on what is the main factors behind a population growth, or what drives people out of a country to figure out what caused these conclusion to occur\n",
    "\n"
   ]
  },
  {
   "cell_type": "code",
   "execution_count": null,
   "metadata": {},
   "outputs": [],
   "source": []
  }
 ],
 "metadata": {
  "kernelspec": {
   "display_name": "Python 3 (ipykernel)",
   "language": "python",
   "name": "python3"
  },
  "language_info": {
   "codemirror_mode": {
    "name": "ipython",
    "version": 3
   },
   "file_extension": ".py",
   "mimetype": "text/x-python",
   "name": "python",
   "nbconvert_exporter": "python",
   "pygments_lexer": "ipython3",
   "version": "3.9.7"
  }
 },
 "nbformat": 4,
 "nbformat_minor": 2
}
